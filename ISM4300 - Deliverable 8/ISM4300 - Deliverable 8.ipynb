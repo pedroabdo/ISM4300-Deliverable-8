{
 "cells": [
  {
   "cell_type": "code",
   "execution_count": 82,
   "metadata": {},
   "outputs": [],
   "source": [
    "#Author - Pedro Nader\n",
    "#Purpose - this generates a random list and sums it\n",
    "#This is deliverable 8 for the ISM4300 class\n",
    "\n",
    "import numpy as np\n",
    "import random #importing random class to use it later"
   ]
  },
  {
   "cell_type": "code",
   "execution_count": 83,
   "metadata": {},
   "outputs": [],
   "source": [
    "def randomList(length): #defining method with the length being the parameter\n",
    "    \n",
    "    newList = np.random.randint(10,50, size = length)\n",
    "\n",
    "    #The code below is just to show it manually\n",
    "\n",
    "    #newList = [] \n",
    "    #for i in range(length):  #looping the ammount of times defined by the user\n",
    "    #    newList.append(random.randint(10,50))  #appending a random number to the empty list\n",
    "    \n",
    "    return newList #returning the list"
   ]
  },
  {
   "cell_type": "code",
   "execution_count": 84,
   "metadata": {},
   "outputs": [],
   "source": [
    "def summation(list): #There is already a sum function, but just to practice declaring methods\n",
    "    return sum(list)"
   ]
  },
  {
   "cell_type": "code",
   "execution_count": 85,
   "metadata": {},
   "outputs": [],
   "source": [
    "def manualSum(list):  #This is how I would do it manually\n",
    "    sum = 0\n",
    "    for elem in list:\n",
    "        sum += elem\n",
    "    return sum"
   ]
  },
  {
   "cell_type": "code",
   "execution_count": 86,
   "metadata": {},
   "outputs": [],
   "source": [
    "done = False\n",
    "while done == False:   #Creating this while to flag when it was completed successfully\n",
    "    try:  #Using try catch if the user does not input an integer number at all\n",
    "        entry = int(input('Please enter an integer between 5 and 15'))\n",
    "        if entry >=5 and entry <=15:  #Using an if statement to make sure it is in range\n",
    "            done = True #To stop the while loop\n",
    "        else:\n",
    "            print('Number has to be between 5 and 15')\n",
    "    except:\n",
    "        print('please enter a whole number')"
   ]
  },
  {
   "cell_type": "code",
   "execution_count": 87,
   "metadata": {},
   "outputs": [
    {
     "name": "stdout",
     "output_type": "stream",
     "text": [
      "the elements of the array are: 43 25 12 12 41 12 32 24 16 38\n",
      "the sum is 255\n"
     ]
    }
   ],
   "source": [
    "generatedList = randomList(entry)  #Generating the list\n",
    "sumOfList = manualSum(generatedList) #summing\n",
    "\n",
    "#Creating a string with the list numbers\n",
    "listStr = ''\n",
    "#creating string from list\n",
    "for num in generatedList:\n",
    "    listStr = listStr + ' '  + str(num)\n",
    "\n",
    "#Printing to the user\n",
    "print('the elements of the array are:' + str(listStr))\n",
    "print('the sum is ' + str(sumOfList))"
   ]
  },
  {
   "cell_type": "code",
   "execution_count": null,
   "metadata": {},
   "outputs": [],
   "source": []
  }
 ],
 "metadata": {
  "kernelspec": {
   "display_name": "base",
   "language": "python",
   "name": "python3"
  },
  "language_info": {
   "codemirror_mode": {
    "name": "ipython",
    "version": 3
   },
   "file_extension": ".py",
   "mimetype": "text/x-python",
   "name": "python",
   "nbconvert_exporter": "python",
   "pygments_lexer": "ipython3",
   "version": "3.9.12"
  },
  "orig_nbformat": 4
 },
 "nbformat": 4,
 "nbformat_minor": 2
}
